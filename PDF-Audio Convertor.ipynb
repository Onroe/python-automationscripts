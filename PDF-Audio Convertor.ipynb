{
 "cells": [
  {
   "cell_type": "code",
   "execution_count": null,
   "metadata": {},
   "outputs": [],
   "source": [
    "Install these libraries\n",
    "#pip install pyttsx3\n",
    "#pip install PyPDF2"
   ]
  },
  {
   "cell_type": "code",
   "execution_count": 2,
   "metadata": {},
   "outputs": [
    {
     "name": "stdout",
     "output_type": "stream",
     "text": [
      "StandardnotationsforDeepLearning Thisdocumenthasthepurposeofdiscussinganewstandardfordeeplearning mathematicalnotations. 1NeuralNetworksNotations. Generalcomments:  superscript(i)willdenotethe i th trainingexamplewhilesuperscript[l]will denotethe l th layer Sizes:  m :numberofexamplesinthedataset  n x :inputsize  n y :outputsize(ornumberofclasses)  n [ l ] h :numberofhiddenunitsofthe l th layer Inaforloop,itispossibletodenote n x = n [0] h and n y = n h [numberoflayers+1] .  L :numberoflayersinthenetwork. Objects:  X 2 R n x  m istheinputmatrix  x ( i ) 2 R n x isthe i th examplerepresentedasacolumnvector  Y 2 R n y  m isthelabelmatrix  y ( i ) 2 R n y istheoutputlabelforthe i th example  W [ l ] 2 R numberofunitsinnextlayer  numberofunitsinthepreviouslayer isthe weightmatrix,superscript[l]indicatesthelayer  b [ l ] 2 R numberofunitsinnextlayer isthebiasvectorinthe l th layer  ^ y 2 R n y isthepredictedoutputvector.Itcanalsobedenoted a [ L ] where L isthenumberoflayersinthenetwork. Commonforwardpropagationequationexamples: a = g [ l ] ( W x x ( i ) + b 1 )= g [ l ] ( z 1 )where g [ l ] denotesthe l th layeractivation function ^ y ( i ) = softmax ( W h h + b 2 )  GeneralActivationFormula: a [ l ] j = g [ l ] ( P k w [ l ] jk a [ l  1] k + b [ l ] j )= g [ l ] ( z [ l ] j )  J ( x;W;b;y )or J (^ y;y )denotethecostfunction. Examplesofcostfunction:  J CE (^ y;y )=  P m i =0 y ( i ) log^ y ( i )  J 1 (^ y;y )= P m i =0 j y ( i )  ^ y ( i ) j 1\n",
      "2 2DeepLearningrepresentations Forrepresentations:  nodesrepresentinputs,activationsoroutputs  edgesrepresentweightsorbiases HereareseveralexamplesofStandarddeeplearningrepresentations Figure1:ComprehensiveNetwork:representationcommonlyusedforNeural Networks.Forbetteraesthetic,weomittedthedetailsontheparameters( w [ l ] ij and b [ l ] i etc...)thatshouldappearontheedges Figure2:Network:asimplerrepresentationofatwolayerneural network,bothareequivalent.\n"
     ]
    }
   ],
   "source": [
    "import pyttsx3,PyPDF2\n",
    "pdf_reader = PyPDF2.PdfFileReader(open('deep-learning-notation.pdf','rb'))\n",
    "computer_speaker = pyttsx3.init()\n",
    "for page_num in range(pdfreader.numPages):   \n",
    "    text = pdfreader.getPage(page_num).extractText()  ## extract text from the PDF\n",
    "    text = text.strip().replace('\\n',' ')  ## Removes unnecessary spaces and break lines\n",
    "    print(text)                ## Print the text from PDF\n",
    "    #computer_speaker.say(text)        ## Speaker reads the text\n",
    "    #computer_speaker.save_to_file(text,'book.mp3')  ## Saving Text In a audio file 'story.mp3'\n",
    "    computer_speaker.runAndWait()\n",
    "computer_speaker.stop()"
   ]
  },
  {
   "cell_type": "code",
   "execution_count": null,
   "metadata": {},
   "outputs": [],
   "source": []
  }
 ],
 "metadata": {
  "kernelspec": {
   "display_name": "Python 3",
   "language": "python",
   "name": "python3"
  },
  "language_info": {
   "codemirror_mode": {
    "name": "ipython",
    "version": 3
   },
   "file_extension": ".py",
   "mimetype": "text/x-python",
   "name": "python",
   "nbconvert_exporter": "python",
   "pygments_lexer": "ipython3",
   "version": "3.7.0"
  }
 },
 "nbformat": 4,
 "nbformat_minor": 2
}
