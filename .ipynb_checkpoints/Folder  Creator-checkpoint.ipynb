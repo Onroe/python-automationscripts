{
 "cells": [
  {
   "cell_type": "markdown",
   "id": "5cc45935",
   "metadata": {},
   "source": [
    "Automate creation of folders for every day of the month"
   ]
  },
  {
   "cell_type": "code",
   "execution_count": 25,
   "id": "89ae2db0",
   "metadata": {},
   "outputs": [],
   "source": [
    "from pathlib import Path\n",
    "import calendar\n",
    "\n",
    "def folder_creator():\n",
    "    \n",
    "    months = list(calendar.month_name[1:])  # generate list of months starting with January\n",
    "    month_days = [31,28,31,30,31,30,31,31,30,31,30,31] # list of number of days in every month\n",
    "\n",
    "    for i, month in enumerate(months):\n",
    "        days = [i for i in range(1,month_days[i]+1)] # generate list of days in month\n",
    "        for day in days:\n",
    "            Path(f'2022/{i+1}.{month}/{day}').mkdir(parents=True, exist_ok=True)\n"
   ]
  },
  {
   "cell_type": "code",
   "execution_count": 26,
   "id": "abc73cfa",
   "metadata": {},
   "outputs": [],
   "source": [
    "folder_creator()"
   ]
  },
  {
   "cell_type": "code",
   "execution_count": null,
   "id": "91c35623",
   "metadata": {},
   "outputs": [],
   "source": []
  }
 ],
 "metadata": {
  "kernelspec": {
   "display_name": "Python 3 (ipykernel)",
   "language": "python",
   "name": "python3"
  },
  "language_info": {
   "codemirror_mode": {
    "name": "ipython",
    "version": 3
   },
   "file_extension": ".py",
   "mimetype": "text/x-python",
   "name": "python",
   "nbconvert_exporter": "python",
   "pygments_lexer": "ipython3",
   "version": "3.9.7"
  }
 },
 "nbformat": 4,
 "nbformat_minor": 5
}
