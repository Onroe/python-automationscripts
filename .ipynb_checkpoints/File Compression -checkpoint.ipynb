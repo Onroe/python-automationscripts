{
 "cells": [
  {
   "cell_type": "markdown",
   "id": "a7449fde",
   "metadata": {},
   "source": [
    "  INSTALL PYTHON PACKAGE\\\n",
    "  <br>\n",
    "  pip install zipfile36"
   ]
  },
  {
   "cell_type": "code",
   "execution_count": 16,
   "id": "34d88402",
   "metadata": {},
   "outputs": [],
   "source": [
    "import zipfile \n",
    "import os\n",
    "\n",
    "# Compress a file\n",
    "def fileCompress(filename):\n",
    "    print ('creating archive')\n",
    "    zipped_file= zipfile.ZipFile('data_archive.zip', 'w', zipfile.ZIP_DEFLATED)\n",
    "    try:\n",
    "        print ('adding file')\n",
    "        zipped_file.write(filename)\n",
    "    finally:\n",
    "        print('closing')\n",
    "        zipped_file.close()\n",
    "# Decompress file\n",
    "def fileDecompress(filename):\n",
    "    with zip_lib.ZipFile(filename, 'r') as z:\n",
    "        z.extractall()\n",
    "        "
   ]
  },
  {
   "cell_type": "code",
   "execution_count": 17,
   "id": "adf4fed5",
   "metadata": {},
   "outputs": [
    {
     "name": "stdout",
     "output_type": "stream",
     "text": [
      "creating archive\n",
      "adding file\n"
     ]
    }
   ],
   "source": [
    "file= \"D:/SOFTWARE 2021/ubuntu-18.04-desktop-amd64\"\n",
    "fileCompress(file)"
   ]
  },
  {
   "cell_type": "code",
   "execution_count": null,
   "id": "898e2e35",
   "metadata": {},
   "outputs": [],
   "source": [
    "\n",
    "print 'creating archive'\n",
    "zf = zipfile.ZipFile('zipfile_write.zip', mode='w')\n",
    "try:\n",
    "    print 'adding README.txt'\n",
    "    zf.write('README.txt')\n",
    "finally:\n",
    "    print 'closing'\n",
    "    zf.close()\n",
    "\n",
    "print\n",
    "print_info('zipfile_write.zip')"
   ]
  }
 ],
 "metadata": {
  "kernelspec": {
   "display_name": "Python 3 (ipykernel)",
   "language": "python",
   "name": "python3"
  },
  "language_info": {
   "codemirror_mode": {
    "name": "ipython",
    "version": 3
   },
   "file_extension": ".py",
   "mimetype": "text/x-python",
   "name": "python",
   "nbconvert_exporter": "python",
   "pygments_lexer": "ipython3",
   "version": "3.9.7"
  }
 },
 "nbformat": 4,
 "nbformat_minor": 5
}
