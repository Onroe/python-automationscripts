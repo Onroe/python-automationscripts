{
 "cells": [
  {
   "cell_type": "code",
   "execution_count": null,
   "metadata": {},
   "outputs": [],
   "source": [
    "import pyttsx3,PyPDF2\n",
    "pdfreader = PyPDF2.PdfFileReader(open('deep-learning-notation.pdf','rb'))\n",
    "speaker = pyttsx3.init()\n",
    "for page_num in range(pdfreader.numPages):   \n",
    "    text = pdfreader.getPage(page_num).extractText()  ## extracting text from the PDF\n",
    "    cleaned_text = text.strip().replace('\\n',' ')  ## Removes unnecessary spaces and break lines\n",
    "    print(cleaned_text)                ## Print the text from PDF\n",
    "    #speaker.say(cleaned_text)        ## Let The Speaker Speak The Text\n",
    "    #speaker.save_to_file(cleaned_text,'book.mp3')  ## Saving Text In a audio file 'story.mp3'\n",
    "    speaker.runAndWait()\n",
    "speaker.stop()"
   ]
  }
 ],
 "metadata": {
  "kernelspec": {
   "display_name": "Python 3",
   "language": "python",
   "name": "python3"
  },
  "language_info": {
   "codemirror_mode": {
    "name": "ipython",
    "version": 3
   },
   "file_extension": ".py",
   "mimetype": "text/x-python",
   "name": "python",
   "nbconvert_exporter": "python",
   "pygments_lexer": "ipython3",
   "version": "3.7.0"
  }
 },
 "nbformat": 4,
 "nbformat_minor": 2
}
