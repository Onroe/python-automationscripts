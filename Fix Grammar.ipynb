{
 "cells": [
  {
   "cell_type": "markdown",
   "id": "b1853189",
   "metadata": {},
   "source": [
    "FUNCTION TO FIX GRAMMAR ERRORS IN SENTENCES OR PARAGRAPHS\n",
    "<br>\n",
    "\n",
    "\n",
    "pip install gingerit"
   ]
  },
  {
   "cell_type": "code",
   "execution_count": 6,
   "id": "60bcf033",
   "metadata": {},
   "outputs": [],
   "source": [
    "from gingerit.gingerit import GingerIt\n",
    "\n",
    "def correctGrammar(sentence):\n",
    "    \n",
    "    corrected_text = GingerIt().parse(sentence)\n",
    "    result = corrected_text['result']\n",
    "    return result\n",
    "\n"
   ]
  },
  {
   "cell_type": "code",
   "execution_count": 7,
   "id": "df6b8b4f",
   "metadata": {},
   "outputs": [
    {
     "data": {
      "text/plain": [
       "\"I'm a programmer, and I love to code\""
      ]
     },
     "execution_count": 7,
     "metadata": {},
     "output_type": "execute_result"
    }
   ],
   "source": [
    "sentence = \"I'm a Pogrammer, and I live to code\"\n",
    "correctGrammar(sentence)"
   ]
  },
  {
   "cell_type": "code",
   "execution_count": null,
   "id": "adebfb6c",
   "metadata": {},
   "outputs": [],
   "source": []
  }
 ],
 "metadata": {
  "kernelspec": {
   "display_name": "Python 3 (ipykernel)",
   "language": "python",
   "name": "python3"
  },
  "language_info": {
   "codemirror_mode": {
    "name": "ipython",
    "version": 3
   },
   "file_extension": ".py",
   "mimetype": "text/x-python",
   "name": "python",
   "nbconvert_exporter": "python",
   "pygments_lexer": "ipython3",
   "version": "3.9.7"
  }
 },
 "nbformat": 4,
 "nbformat_minor": 5
}
