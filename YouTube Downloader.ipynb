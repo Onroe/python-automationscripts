{
 "cells": [
  {
   "cell_type": "markdown",
   "metadata": {},
   "source": [
    " Youtube Downloader"
   ]
  },
  {
   "cell_type": "code",
   "execution_count": 1,
   "metadata": {},
   "outputs": [],
   "source": [
    "from pytube import YouTube"
   ]
  },
  {
   "cell_type": "code",
   "execution_count": 4,
   "metadata": {},
   "outputs": [],
   "source": [
    "def finishDownload(stream=None, file_path=None):\n",
    "    print(\"download completed\")\n",
    "    print(\"Message\", \"File has been downloaded...\")\n",
    "\n",
    "def progressDownload(stream=None, chunk=None, bytes_remaining=None):\n",
    "    percent = (100 * ((file_size - bytes_remaining) / file_size))\n",
    "    print(\"{:00.0f}% downloaded \".format(percent))\n",
    "\n",
    "def startDownload(url):\n",
    "    global file_size\n",
    "    path_to_save = \"E:/\"\n",
    "    if path_to_save is None:\n",
    "        return\n",
    "\n",
    "    try:\n",
    "        yt = YouTube(url)\n",
    "        #st = yt.streams.first()\n",
    "        st = yt.streams.get_highest_resolution()\n",
    "        \n",
    "        yt.register_on_complete_callback(completeDownload)\n",
    "        yt.register_on_progress_callback(progressDownload)\n",
    "\n",
    "        file_size = st.filesize\n",
    "        st.download(output_path=path_to_save)\n",
    "\n",
    "    except Exception as e:\n",
    "        print(e)\n",
    "        print(\"something went wrong\")"
   ]
  },
  {
   "cell_type": "code",
   "execution_count": 5,
   "metadata": {},
   "outputs": [
    {
     "name": "stdout",
     "output_type": "stream",
     "text": [
      "100% downloaded \n",
      "download completed\n",
      "Message File has been downloaded...\n"
     ]
    }
   ],
   "source": [
    "startDownload(\"https://www.youtube.com/watch?v=lTTajzrSkCw\")"
   ]
  },
  {
   "cell_type": "code",
   "execution_count": null,
   "metadata": {},
   "outputs": [],
   "source": []
  },
  {
   "cell_type": "markdown",
   "metadata": {},
   "source": [
    "Download multiple files"
   ]
  },
  {
   "cell_type": "markdown",
   "metadata": {},
   "source": [
    "# Open a file with a list of links in it. Traverse every link in the file and download "
   ]
  },
  {
   "cell_type": "code",
   "execution_count": 8,
   "metadata": {},
   "outputs": [],
   "source": [
    "def downloadVideoList(file):\n",
    "    filelist=open(file,'r') \n",
    "  \n",
    "    for i in filelist: \n",
    "        try: \n",
    "            startDownload(i)\n",
    "        except: \n",
    "          \n",
    "        #to handle exception\n",
    "             print(\"Connection Error\")"
   ]
  },
  {
   "cell_type": "code",
   "execution_count": 9,
   "metadata": {},
   "outputs": [
    {
     "name": "stdout",
     "output_type": "stream",
     "text": [
      "100% downloaded \n",
      "download completed\n",
      "Message File has been downloaded...\n",
      "100% downloaded \n",
      "download completed\n",
      "Message File has been downloaded...\n"
     ]
    }
   ],
   "source": [
    "filename =\"file.txt\"\n",
    "downloadVideoList(filename)"
   ]
  },
  {
   "cell_type": "code",
   "execution_count": null,
   "metadata": {},
   "outputs": [],
   "source": []
  }
 ],
 "metadata": {
  "kernelspec": {
   "display_name": "Python 3",
   "language": "python",
   "name": "python3"
  },
  "language_info": {
   "codemirror_mode": {
    "name": "ipython",
    "version": 3
   },
   "file_extension": ".py",
   "mimetype": "text/x-python",
   "name": "python",
   "nbconvert_exporter": "python",
   "pygments_lexer": "ipython3",
   "version": "3.7.0"
  }
 },
 "nbformat": 4,
 "nbformat_minor": 2
}
