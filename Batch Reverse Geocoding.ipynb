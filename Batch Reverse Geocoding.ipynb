{
 "cells": [
  {
   "cell_type": "markdown",
   "id": "cec97089",
   "metadata": {},
   "source": [
    "Script to convert latitudes and longitudes into human readable addresses using google maps"
   ]
  },
  {
   "cell_type": "code",
   "execution_count": 125,
   "id": "fd4626b9",
   "metadata": {},
   "outputs": [],
   "source": [
    "import pandas as pd\n",
    "import requests\n",
    "import logging\n",
    "import time\n",
    "\n",
    "logger = logging.getLogger(\"root\")\n",
    "logger.setLevel(logging.DEBUG)\n",
    "\n",
    "# create console log  handler\n",
    "ch = logging.StreamHandler()\n",
    "ch.setLevel(logging.DEBUG)\n",
    "logger.addHandler(ch)"
   ]
  },
  {
   "cell_type": "code",
   "execution_count": 126,
   "id": "5bb4d035",
   "metadata": {},
   "outputs": [],
   "source": [
    "# declare google maps api key, google maps endpoint and dataset\n",
    "\n",
    "api_key =\"\"\n",
    "api_url = \"https://maps.googleapis.com/maps/api/geocode/json?latlng=\"\n",
    "source_data= pd.read_csv('E:/ACTIVE/Datasets/Site.csv')"
   ]
  },
  {
   "cell_type": "code",
   "execution_count": 129,
   "id": "fbde5842",
   "metadata": {},
   "outputs": [
    {
     "data": {
      "text/html": [
       "<div>\n",
       "<style scoped>\n",
       "    .dataframe tbody tr th:only-of-type {\n",
       "        vertical-align: middle;\n",
       "    }\n",
       "\n",
       "    .dataframe tbody tr th {\n",
       "        vertical-align: top;\n",
       "    }\n",
       "\n",
       "    .dataframe thead th {\n",
       "        text-align: right;\n",
       "    }\n",
       "</style>\n",
       "<table border=\"1\" class=\"dataframe\">\n",
       "  <thead>\n",
       "    <tr style=\"text-align: right;\">\n",
       "      <th></th>\n",
       "      <th>Site Name</th>\n",
       "      <th>LAT</th>\n",
       "      <th>LONG</th>\n",
       "    </tr>\n",
       "  </thead>\n",
       "  <tbody>\n",
       "    <tr>\n",
       "      <th>0</th>\n",
       "      <td>ABAYITA_ABABIRI</td>\n",
       "      <td>0.0935</td>\n",
       "      <td>32.5009</td>\n",
       "    </tr>\n",
       "    <tr>\n",
       "      <th>1</th>\n",
       "      <td>ACHOLI_INN</td>\n",
       "      <td>2.7831</td>\n",
       "      <td>32.2914</td>\n",
       "    </tr>\n",
       "    <tr>\n",
       "      <th>2</th>\n",
       "      <td>ARUA_EDIOFE</td>\n",
       "      <td>3.0111</td>\n",
       "      <td>30.8962</td>\n",
       "    </tr>\n",
       "    <tr>\n",
       "      <th>3</th>\n",
       "      <td>ARUA_TOWN</td>\n",
       "      <td>3.0238</td>\n",
       "      <td>30.9084</td>\n",
       "    </tr>\n",
       "    <tr>\n",
       "      <th>4</th>\n",
       "      <td>ATIAK</td>\n",
       "      <td>3.2579</td>\n",
       "      <td>32.1210</td>\n",
       "    </tr>\n",
       "  </tbody>\n",
       "</table>\n",
       "</div>"
      ],
      "text/plain": [
       "           Site Name     LAT     LONG\n",
       "0   ABAYITA_ABABIRI   0.0935  32.5009\n",
       "1        ACHOLI_INN   2.7831  32.2914\n",
       "2       ARUA_EDIOFE   3.0111  30.8962\n",
       "3         ARUA_TOWN   3.0238  30.9084\n",
       "4             ATIAK   3.2579  32.1210"
      ]
     },
     "execution_count": 129,
     "metadata": {},
     "output_type": "execute_result"
    }
   ],
   "source": [
    "# sample of the dataset\n",
    "\n",
    "coordinates = source_data.head()[[\"Site Name\",\"LAT\",\"LONG\"]]\n",
    "coordinates"
   ]
  },
  {
   "cell_type": "code",
   "execution_count": 130,
   "id": "d6216a81",
   "metadata": {},
   "outputs": [],
   "source": [
    "# function to reverse geocode an address\n",
    "\n",
    "def reverse_geocoding(api_url,lat,long,api_key):\n",
    "    full_url = api_url+str(lat)+\",\"+str(long)+\"&key=\"+api_key+\"\"\n",
    "    response = requests.get(full_url)  \n",
    "    response_json = response.json()\n",
    "    result =(response_json[\"results\"][0]['formatted_address']).split(',',1)[1]\n",
    "\n",
    "\n",
    "#check response if results are empty\n",
    "    if len(response_json) == 0:\n",
    "        output = {\n",
    "            \"Address\" : None,\n",
    "            \"Status\":\"None\"\n",
    "           }\n",
    "    else:    \n",
    "        output = {\n",
    "            \"Address\" : result,\n",
    "            \"Status\":response_json[\"status\"]\n",
    "        }\n",
    "    return list(output.values())      "
   ]
  },
  {
   "cell_type": "code",
   "execution_count": null,
   "id": "2aab033d",
   "metadata": {},
   "outputs": [],
   "source": []
  },
  {
   "cell_type": "code",
   "execution_count": 121,
   "id": "732ceded",
   "metadata": {},
   "outputs": [],
   "source": [
    "# process a list of coordinates to get the corresponding addresses\n",
    "\n",
    "my_list=[]\n",
    "for index, row in coordinates.iterrows():\n",
    "            sitename=row[\"Site Name\"]\n",
    "            latitude= row[\"LAT\"]\n",
    "            longitude=row[\"LONG\"]\n",
    "            address = reverse_geocoding(api_url,latitude,longitude,api_key)\n",
    "            status =address[1]\n",
    "            if status == \"None\":\n",
    "                logger.warning(\"ErrorReverseGeocoded {}: {}\".format(sitename, status))\n",
    "            \n",
    "            elif status==\"OK\":\n",
    "                logger.debug(\"ReverseGeocoded: {}: {}\".format(sitename,status))\n",
    "                my_list.append([sitename,latitude,longitude,address[0]])  \n",
    "print(my_list)"
   ]
  },
  {
   "cell_type": "code",
   "execution_count": null,
   "id": "4b75b5a4",
   "metadata": {},
   "outputs": [],
   "source": []
  }
 ],
 "metadata": {
  "kernelspec": {
   "display_name": "Python 3 (ipykernel)",
   "language": "python",
   "name": "python3"
  },
  "language_info": {
   "codemirror_mode": {
    "name": "ipython",
    "version": 3
   },
   "file_extension": ".py",
   "mimetype": "text/x-python",
   "name": "python",
   "nbconvert_exporter": "python",
   "pygments_lexer": "ipython3",
   "version": "3.9.7"
  }
 },
 "nbformat": 4,
 "nbformat_minor": 5
}
