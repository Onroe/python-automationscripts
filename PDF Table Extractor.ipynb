{
 "cells": [
  {
   "cell_type": "markdown",
   "id": "063e2c50",
   "metadata": {},
   "source": [
    "#     Extract tables from a pdf document and export them"
   ]
  },
  {
   "cell_type": "code",
   "execution_count": null,
   "id": "6bb0ef31",
   "metadata": {},
   "outputs": [],
   "source": []
  },
  {
   "cell_type": "markdown",
   "id": "484d9e38",
   "metadata": {},
   "source": [
    "   ### Use the camelot library\n",
    "```\n",
    "\n",
    "pip install camelot-py[cv]\n",
    "\n",
    "```"
   ]
  },
  {
   "cell_type": "code",
   "execution_count": 39,
   "id": "c77fd409",
   "metadata": {},
   "outputs": [],
   "source": [
    "import camelot\n",
    "tables = camelot.read_pdf('report.pdf')\n",
    "i = 0\n",
    "index_list = list(x for x in range(0,2))\n",
    "for i in index_list:\n",
    "    tables[i].to_csv('report.csv')"
   ]
  },
  {
   "cell_type": "code",
   "execution_count": null,
   "id": "c0886693",
   "metadata": {},
   "outputs": [],
   "source": []
  }
 ],
 "metadata": {
  "kernelspec": {
   "display_name": "Python 3 (ipykernel)",
   "language": "python",
   "name": "python3"
  },
  "language_info": {
   "codemirror_mode": {
    "name": "ipython",
    "version": 3
   },
   "file_extension": ".py",
   "mimetype": "text/x-python",
   "name": "python",
   "nbconvert_exporter": "python",
   "pygments_lexer": "ipython3",
   "version": "3.9.7"
  }
 },
 "nbformat": 4,
 "nbformat_minor": 5
}
