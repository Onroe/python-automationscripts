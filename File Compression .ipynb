{
 "cells": [
  {
   "cell_type": "markdown",
   "id": "4c2edd4e",
   "metadata": {},
   "source": [
    "  INSTALL PYTHON PACKAGE\\\n",
    "  <br>\n",
    "  pip install zipfile36"
   ]
  },
  {
   "cell_type": "code",
   "execution_count": 35,
   "id": "aa1838c7",
   "metadata": {},
   "outputs": [],
   "source": [
    "import zipfile \n",
    "import os\n",
    "\n",
    "# Compress a file\n",
    "def fileCompress(filename):\n",
    "    print ('creating archive')\n",
    "    zipped_file= zipfile.ZipFile('data_archive.zip', mode='w',  compression=zipfile.ZIP_DEFLATED)\n",
    "    try:\n",
    "        print ('adding file')\n",
    "        zipped_file.write(filename,'new file')\n",
    "    finally:\n",
    "        print('closing')\n",
    "        zipped_file.close()\n",
    "        \n",
    "        \n",
    "# Decompress file\n",
    "def fileDecompress(filename):\n",
    "    unzipped_file= zipfile.ZipFile(filename, 'r')\n",
    "    result=   unzipped_file.extractall()\n",
    "        "
   ]
  },
  {
   "cell_type": "code",
   "execution_count": 31,
   "id": "2fca25ff",
   "metadata": {},
   "outputs": [
    {
     "name": "stdout",
     "output_type": "stream",
     "text": [
      "creating archive\n",
      "adding file\n",
      "closing\n"
     ]
    }
   ],
   "source": [
    "file= \"filename.txt\"\n",
    "fileCompress(file)"
   ]
  },
  {
   "cell_type": "code",
   "execution_count": 36,
   "id": "f7c8af1f",
   "metadata": {},
   "outputs": [],
   "source": [
    "zip_file= \"data_archive.zip\"\n",
    "fileDecompress(zip_file)"
   ]
  },
  {
   "cell_type": "code",
   "execution_count": null,
   "id": "e2ba15f1",
   "metadata": {},
   "outputs": [],
   "source": []
  }
 ],
 "metadata": {
  "kernelspec": {
   "display_name": "Python 3 (ipykernel)",
   "language": "python",
   "name": "python3"
  },
  "language_info": {
   "codemirror_mode": {
    "name": "ipython",
    "version": 3
   },
   "file_extension": ".py",
   "mimetype": "text/x-python",
   "name": "python",
   "nbconvert_exporter": "python",
   "pygments_lexer": "ipython3",
   "version": "3.9.7"
  }
 },
 "nbformat": 4,
 "nbformat_minor": 5
}
