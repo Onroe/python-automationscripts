{
 "cells": [
  {
   "cell_type": "markdown",
   "id": "f0b1ebee",
   "metadata": {},
   "source": [
    "Function to convert PDF document into  images."
   ]
  },
  {
   "cell_type": "code",
   "execution_count": null,
   "id": "7abea789",
   "metadata": {},
   "outputs": [],
   "source": []
  },
  {
   "cell_type": "code",
   "execution_count": 20,
   "id": "20208272",
   "metadata": {},
   "outputs": [],
   "source": [
    "import fitz\n",
    "def pdf2Imageconverter(filename):\n",
    "\n",
    "\n",
    "    doc = fitz.open(filename) \n",
    "    for page in doc:\n",
    "            pix = page.get_pixmap(alpha=False)\n",
    "            pix.save('page-%i.png' % page.number)\n",
    "    return  'Success'"
   ]
  },
  {
   "cell_type": "code",
   "execution_count": 22,
   "id": "f8c39454",
   "metadata": {},
   "outputs": [
    {
     "data": {
      "text/plain": [
       "'Success'"
      ]
     },
     "execution_count": 22,
     "metadata": {},
     "output_type": "execute_result"
    }
   ],
   "source": [
    "file_name = 'C:/Users/DOCKER/Desktop/PAYMENT ACKNOWLEDGEMENT.pdf'\n",
    "pdf2Imageconverter(file_name)"
   ]
  },
  {
   "cell_type": "code",
   "execution_count": null,
   "id": "97f4d752",
   "metadata": {},
   "outputs": [],
   "source": []
  }
 ],
 "metadata": {
  "kernelspec": {
   "display_name": "Python 3 (ipykernel)",
   "language": "python",
   "name": "python3"
  },
  "language_info": {
   "codemirror_mode": {
    "name": "ipython",
    "version": 3
   },
   "file_extension": ".py",
   "mimetype": "text/x-python",
   "name": "python",
   "nbconvert_exporter": "python",
   "pygments_lexer": "ipython3",
   "version": "3.9.7"
  }
 },
 "nbformat": 4,
 "nbformat_minor": 5
}
