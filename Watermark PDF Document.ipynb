{
 "cells": [
  {
   "cell_type": "code",
   "execution_count": null,
   "id": "54fed72b",
   "metadata": {},
   "outputs": [],
   "source": [
    "#pip install PyPDF4"
   ]
  },
  {
   "cell_type": "markdown",
   "id": "b6e600b8",
   "metadata": {},
   "source": [
    "# Script to add a watermark to pdf documents"
   ]
  },
  {
   "cell_type": "code",
   "execution_count": null,
   "id": "617ef244",
   "metadata": {},
   "outputs": [],
   "source": [
    "from PyPDF4 import PdfFileWriter, PdfFileReader\n",
    "  \n",
    "def watermark_file(input_pdf, output_pdf, watermark):\n",
    "    \n",
    "    # read water mark\n",
    "    watermark_info = PdfFileReader(watermark)\n",
    "      \n",
    "    # fetch watermark page\n",
    "    watermark_page = watermark_info.getPage(0)\n",
    "      \n",
    "    # read the file to be water marked\n",
    "    pdf_reader = PdfFileReader(input_pdf)\n",
    "      \n",
    "    # output file with watermark\n",
    "    pdf_writer = PdfFileWriter()\n",
    "  \n",
    "    # iterates through the input pdf to add watermarks\n",
    "    for page in range(pdf_reader.getNumPages()):\n",
    "          \n",
    "        page = pdf_reader.getPage(page)\n",
    "        page.mergePage(watermark_page)\n",
    "        pdf_writer.addPage(page)\n",
    "        \n",
    "    with open(output_pdf, 'wb') as out:\n",
    "          \n",
    "        # write the output file\n",
    "        pdf_writer.write(out)\n",
    "  \n",
    "if __name__ == \"__main__\":\n",
    "    watermark_file(\n",
    "        input_pdf='C:/Users/DOCKER/Desktop/PAYMENT ACKNOWLEDGEMENT.pdf',  # the input file\n",
    "        output_pdf='watermark_added1.pdf',  # the modified file\n",
    "        watermark='C:/Users/DOCKER/Desktop/watermark.pdf'  # the watermark to be added\n",
    "    )"
   ]
  },
  {
   "cell_type": "code",
   "execution_count": null,
   "id": "d70637f8",
   "metadata": {},
   "outputs": [],
   "source": []
  }
 ],
 "metadata": {
  "kernelspec": {
   "display_name": "Python 3 (ipykernel)",
   "language": "python",
   "name": "python3"
  },
  "language_info": {
   "codemirror_mode": {
    "name": "ipython",
    "version": 3
   },
   "file_extension": ".py",
   "mimetype": "text/x-python",
   "name": "python",
   "nbconvert_exporter": "python",
   "pygments_lexer": "ipython3",
   "version": "3.9.7"
  }
 },
 "nbformat": 4,
 "nbformat_minor": 5
}
